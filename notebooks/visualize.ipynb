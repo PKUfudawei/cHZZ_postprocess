{
 "cells": [
  {
   "cell_type": "code",
   "execution_count": 1,
   "metadata": {},
   "outputs": [],
   "source": [
    "import uproot\n",
    "import awkward as ak\n",
    "import numpy as np\n",
    "from glob import glob\n",
    "\n",
    "import matplotlib.pyplot as plt\n",
    "import matplotlib as mpl\n",
    "import mplhep as hep\n",
    "plt.style.use(hep.style.ROOT)\n",
    "\n",
    "typelist = ['ch+', 'ch-', 'nh', 'ph', 'el+', 'el-', 'mu+', 'mu-']\n",
    "\n",
    "def make_subplot(ax, tree, plot_reco=True):\n",
    "    # default plotting configuration\n",
    "    f = lambda x: np.sqrt(x)/20\n",
    "    alpha = 0.3\n",
    "\n",
    "    def color_opt(color, fill=True):\n",
    "        if fill:\n",
    "            return {'facecolor': color}\n",
    "        else:\n",
    "            return {'edgecolor': color, 'linewidth': 2, 'fill': False, 'hatch': '///'}\n",
    "    # gen higgs/higgs\n",
    "    for pt, eta, phi in zip(tree.GENH_pt, tree.GENH_eta, tree.GENH_phi):\n",
    "        ax.add_patch(mpl.patches.RegularPolygon((eta, phi), 4, radius=f(pt), clip_on=True, alpha=alpha, **color_opt('grey', fill=False)))\n",
    "    if plot_reco:\n",
    "        for pt, eta, phi in zip(tree.H_pt, tree.H_eta, tree.H_phi):\n",
    "            ax.add_patch(mpl.patches.RegularPolygon((eta, phi), 4, radius=f(pt), clip_on=True, alpha=alpha, **color_opt('grey', fill=True)))\n",
    "    # gen lep/leps\n",
    "    for i, (pt, eta, phi) in enumerate(zip(tree.GENlep_pt, tree.GENlep_eta, tree.GENlep_phi)):\n",
    "        lep_color = 'firebrick' if i in [0, 1] else 'violet'\n",
    "        ax.add_patch(mpl.patches.RegularPolygon((eta, phi), 3, radius=f(pt), clip_on=True, alpha=alpha, **color_opt(lep_color, fill=False)))\n",
    "    if plot_reco:\n",
    "        for i, (pt, eta, phi) in enumerate(zip(tree.lep_pt, tree.lep_eta, tree.lep_phi)):\n",
    "            ax.add_patch(mpl.patches.RegularPolygon((eta, phi), 3, radius=f(pt), clip_on=True, alpha=alpha, **color_opt(lep_color, fill=True)))\n",
    "    # partons/hadrons\n",
    "    for pt, eta, phi, isc in zip(tree.GENparton_pt, tree.GENparton_eta, tree.GENparton_phi, tree.GENparton_isc):\n",
    "        color = 'deepskyblue' if isc else 'purple'\n",
    "        ax.add_patch(plt.Circle((eta, phi), radius=f(pt), clip_on=True, alpha=alpha, **color_opt(color, fill=False)))\n",
    "    for pt, eta, phi, isc in zip(tree.GENhadron_pt, tree.GENhadron_eta, tree.GENhadron_phi, tree.GENhadron_isc):\n",
    "        color = 'deepskyblue' if isc else 'purple'\n",
    "        ax.add_patch(plt.Circle((eta, phi), radius=f(pt), clip_on=True, alpha=alpha, **color_opt(color, fill=True)))\n",
    "    print(tree.GENparton_id, tree.GENhadron_id)\n",
    "\n",
    "    ax.set_xlim(-6, 6); ax.set_ylim(-4, 4)\n",
    "    ax.set_xlabel(r'$\\eta$'); ax.set_ylabel(r'$\\phi$')\n",
    "    ax.set_aspect('equal')"
   ]
  },
  {
   "cell_type": "code",
   "execution_count": 5,
   "metadata": {},
   "outputs": [
    {
     "name": "stdout",
     "output_type": "stream",
     "text": [
      "62279\n"
     ]
    }
   ],
   "source": [
    "sam = 'HC_4FS'\n",
    "# sam = 'ggH125'\n",
    "d = uproot.lazy(f'/home/pku/licq/cH/zz_v2/samples/gen_training_dataset/v1/{sam}.root')\n",
    "avail_inds = ak.local_index(d.Event)[d.pass_fiducial & d.pass_fiducial_gen]\n",
    "print(len(avail_inds))"
   ]
  },
  {
   "cell_type": "code",
   "execution_count": 6,
   "metadata": {},
   "outputs": [
    {
     "name": "stdout",
     "output_type": "stream",
     "text": [
      "[-4, 4, 4, -4, 4, -4] [411, 411, 431, -421, -421, -411]\n",
      "[-4, 4, -4, 4] [411, -4122]\n",
      "[-4, 4, 4, -4] [421, -421]\n",
      "[4, -4, -4, 4, 4, 4, -4, -4] [-411, -411, 431, 421, 421, -421]\n",
      "[4, -4] [-421, 421]\n",
      "[4, -4, 4, 4, -4, -4] [431, 421, -431, -421]\n",
      "[4, 4, -4, -4] [421, 421, -421, -421]\n",
      "[4, -4, -4, 4] [-421, 421]\n",
      "[-4, 4, -4, -4, 4, 4] [-431, -411, 431, 421]\n",
      "[4, -4, -4, 4] [-4232, 411]\n",
      "[4, -4, 4, -4] [411, -431]\n",
      "[4, -4, -4, -4, 4, 4] [411, -421, -431, 431]\n",
      "[-4, 4, 4, -4, 4, -4, -4, 4] [421, -411, 421, -421, 411, -421]\n",
      "[-4, 4, -4, -4, 4, -4, 4, 4] [-4122, 421, 411, 411, -411, -431]\n",
      "[4, -4, 4, -4] [20443, 421, -421]\n",
      "[4, -4, -4, 4] [-431, 411]\n",
      "[4, -4, -4, 5, 4, -5] [-421, -521, 411, 521, 421, -421]\n",
      "[-4, 4, 4, -4, 5, -5] [5122, 421, -421, -421, 4122, 511, 421, -411]\n",
      "[-4, 4, 4, -4] [421, -411]\n",
      "[-4, 4, -4, 4] [-421, 421]\n",
      "[-4, 4, -4, 4] [-411, 411, 421, -4122]\n",
      "[4, -4, 4, -4, 4, 4, -4, -4, 4, -4, -4, 4] [443, 421, 411, -421, -421, 411, -421, -421, 421]\n",
      "[-4, 4, -4, 4] [-431, 431]\n",
      "[4, -4, -4, 4] [-421, 421]\n",
      "[4, -4, 5, -4, 4, -4, -5, 4] [431, -421, -511, -421, 511, 431, 411, -431, -411]\n",
      "[-4, 4] [-421, 431]\n",
      "[-4, 4, 4, -4] [-4122, 421]\n",
      "[-5, 5, -4, 4] [5232, 521, 4232, -421, 411, -421]\n",
      "[4, -4, -4, 4] [-421, 421]\n",
      "[4, -4, 4, -4] [421, -421]\n",
      "[-4, 4, 4, -4, 4, -4] [-4122, -411, 431, 421]\n",
      "[-4, 4, 4, 4, -4, -4] [-421, -431, 4122, 421]\n",
      "[-4, 4, 4, -4, 4, -4] [421, -421, 411, -421]\n",
      "[-4, 4, 4, -4, 4, 4, -4, -4] [421, 411, -411, 421, -411, -421]\n",
      "[-4, 4, -4, 4] [-421, 421]\n",
      "[4, -4, 4, -4] [431, -411]\n",
      "[4, -4, -4, 4] [-421, 411]\n",
      "[4, -4, -4, 4] [411, -421]\n",
      "[-4, 4, -4, 4] [411, -421]\n",
      "[4, -4, -4, -4, -4, 4, 4, 4] [-421, -421, -411, 411, 421, 421]\n",
      "[-4, 4, -4, 4] [-421, 421]\n",
      "[-4, 4, 4, -4] [431, -421]\n",
      "[-4, 4, 4, -4] [431, -421]\n",
      "[-4, 4, -4, 4] [-431, 421]\n",
      "[4, -4, -4, 4, -5, -4, 4, 5] [-421, 421, -411, 421, -511, 511, 411, -421]\n",
      "[-4, 4, -4, 4] [-421, 411]\n",
      "[4, -4, 4, -4] [411, 421, -421, -421]\n",
      "[-4, 4, 4, -4] [-4122, 421]\n",
      "[4, -4, 4, -4] [411, -411]\n",
      "[4, -4] [-421, 431]\n"
     ]
    }
   ],
   "source": [
    "for i in range(50):\n",
    "    fig, ax = plt.subplots(figsize=(10, 10))\n",
    "    make_subplot(ax, d[avail_inds[i]], plot_reco=False)\n",
    "    # ax.text(0.04, 0.94, f'class: {label_map[cat]}', fontsize=22, fontweight='bold', transform=ax.transAxes)\n",
    "    # ax.text(0.04, 0.87, f'$m_{{SD}}$: {evt.fj_sdmass:.1f}', fontsize=22, transform=ax.transAxes)\n",
    "    # ax.text(0.04, 0.80, f'$m_{{H}}^{{gen}}$: {evt.fj_gen_mass:.1f}', fontsize=22, transform=ax.transAxes)\n",
    "    # ax.text(0.04, 0.73, f'$p_{{T}}$: {evt.fj_pt:.1f}', fontsize=22, transform=ax.transAxes)\n",
    "\n",
    "    plt.savefig(f\"../plots/event_vis/{sam}_{i:03d}.png\")\n",
    "    plt.close()"
   ]
  },
  {
   "cell_type": "code",
   "execution_count": 15,
   "metadata": {},
   "outputs": [
    {
     "data": {
      "text/plain": [
       "<Array [5, 13, 18, ... 490962, 490964, 490996] type='62279 * int64'>"
      ]
     },
     "execution_count": 15,
     "metadata": {},
     "output_type": "execute_result"
    }
   ],
   "source": []
  },
  {
   "cell_type": "code",
   "execution_count": null,
   "metadata": {},
   "outputs": [],
   "source": []
  }
 ],
 "metadata": {
  "interpreter": {
   "hash": "9e003ead697514986748c5216fd926cafb32241b93be84241046d90defd7708b"
  },
  "kernelspec": {
   "display_name": "Python 3.9.7 ('weaver': conda)",
   "language": "python",
   "name": "python3"
  },
  "language_info": {
   "codemirror_mode": {
    "name": "ipython",
    "version": 3
   },
   "file_extension": ".py",
   "mimetype": "text/x-python",
   "name": "python",
   "nbconvert_exporter": "python",
   "pygments_lexer": "ipython3",
   "version": "3.9.7"
  },
  "orig_nbformat": 4
 },
 "nbformat": 4,
 "nbformat_minor": 2
}
